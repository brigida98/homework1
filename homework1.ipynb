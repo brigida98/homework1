{
 "cells": [
  {
   "cell_type": "code",
   "execution_count": null,
   "metadata": {},
   "outputs": [],
   "source": [
    "if __name__ == '__main__':\n",
    "    print(\"Hello, World!\")"
   ]
  },
  {
   "cell_type": "code",
   "execution_count": null,
   "metadata": {},
   "outputs": [],
   "source": [
    "import math\n",
    "import os\n",
    "import random\n",
    "import re\n",
    "import sys\n",
    "\n",
    "\n",
    "\n",
    "if __name__ == '__main__':\n",
    "    n = int(input().strip())\n",
    "    if n % 2 != 0:\n",
    "      print('Weird')\n",
    "    if n % 2 == 0:\n",
    "        if n in range(2,5):   \n",
    "          print('Not Weird')\n",
    "        if n > 20:\n",
    "            print('Not Weird')\n",
    "        if n in range(6,21):\n",
    "          print('Weird')"
   ]
  },
  {
   "cell_type": "code",
   "execution_count": null,
   "metadata": {},
   "outputs": [],
   "source": [
    "if __name__ == '__main__':\n",
    "    a = int(input())\n",
    "    b = int(input())\n",
    "    print(a+b)\n",
    "    print(a-b)\n",
    "    print(a*b)"
   ]
  },
  {
   "cell_type": "code",
   "execution_count": null,
   "metadata": {},
   "outputs": [],
   "source": [
    "if __name__ == '__main__':\n",
    "    a = int(input())\n",
    "    b = int(input())\n",
    "    print(a//b)\n",
    "    print(a/b)"
   ]
  },
  {
   "cell_type": "code",
   "execution_count": null,
   "metadata": {},
   "outputs": [],
   "source": [
    "if __name__ == '__main__':\n",
    "    n = int(input())\n",
    "    for i in range(0,n):\n",
    "        print(i**2)"
   ]
  },
  {
   "cell_type": "code",
   "execution_count": null,
   "metadata": {},
   "outputs": [],
   "source": [
    "def is_leap(year):\n",
    "    leap = False\n",
    "    if year % 4 != 0:\n",
    "        leap = False\n",
    "    if year % 4 == 0 and year % 100 != 0:\n",
    "        leap = True\n",
    "    if year % 4 == 0 and year % 100 == 0 and year % 400 == 0:\n",
    "        leap = True\n",
    "    return leap"
   ]
  },
  {
   "cell_type": "code",
   "execution_count": null,
   "metadata": {},
   "outputs": [],
   "source": [
    "if __name__ == '__main__':\n",
    "    n = int(input())\n",
    "    for a in range(1,n+1):\n",
    "        print(a, end='')"
   ]
  },
  {
   "cell_type": "code",
   "execution_count": null,
   "metadata": {},
   "outputs": [],
   "source": [
    "import itertools\n",
    "if __name__ == '__main__':\n",
    "    x = int(input())\n",
    "    y = int(input())\n",
    "    z = int(input())\n",
    "    n = int(input())\n",
    "\n",
    "                \n",
    "    lista = [[i,j,k] for i in range(x+1) for j in range(y+1) for k in range(z+1) if i + j + k != n]\n",
    "    print(lista)\n",
    "    "
   ]
  },
  {
   "cell_type": "code",
   "execution_count": null,
   "metadata": {},
   "outputs": [],
   "source": [
    "if __name__ == '__main__':\n",
    "    n = int(input())\n",
    "    arr = map(int, input().split())\n",
    "    a = list(arr)\n",
    "    print(max([i for i in a if i != max(a)]))\n",
    "        "
   ]
  },
  {
   "cell_type": "code",
   "execution_count": null,
   "metadata": {},
   "outputs": [],
   "source": [
    "if __name__ == '__main__':\n",
    "    n = int(input())\n",
    "    integer_list = map(int, input().split())\n",
    "    t = tuple(integer_list)\n",
    "    print(hash(t))"
   ]
  },
  {
   "cell_type": "code",
   "execution_count": null,
   "metadata": {},
   "outputs": [],
   "source": [
    "import operator\n",
    "if __name__ == '__main__':\n",
    "    lista = []\n",
    "    for _ in range(int(input())):\n",
    "        name = input()\n",
    "        score = float(input())\n",
    "        lista.append([name,score])\n",
    "        \n",
    "    massimo=min(studenti[1] for studenti in lista)\n",
    "    secondopunteggio= min(studenti[1] for studenti in lista if studenti[1] != massimo)\n",
    "    secondo= [studenti[0] for studenti in lista if studenti[1] == secondopunteggio]\n",
    "    \n",
    "    for i in sorted(secondo):\n",
    "        print(i)\n",
    "    \n"
   ]
  },
  {
   "cell_type": "code",
   "execution_count": null,
   "metadata": {},
   "outputs": [],
   "source": [
    "import operator\n",
    "if __name__ == '__main__':\n",
    "    lista = []\n",
    "    for _ in range(int(input())):\n",
    "        name = input()\n",
    "        score = float(input())\n",
    "        lista.append([name,score])\n",
    "        \n",
    "    massimo=min(studenti[1] for studenti in lista)\n",
    "    secondopunteggio= min(studenti[1] for studenti in lista if studenti[1] != massimo)\n",
    "    secondo= [studenti[0] for studenti in lista if studenti[1] == secondopunteggio]\n",
    "    \n",
    "    for i in sorted(secondo):\n",
    "        print(i)\n",
    "    \n"
   ]
  },
  {
   "cell_type": "code",
   "execution_count": null,
   "metadata": {},
   "outputs": [],
   "source": [
    "n = int(input().strip())\n",
    "numerostati = set()\n",
    "\n",
    "for i in range(n):\n",
    "  stati = input().strip()\n",
    "  numerostati.add(stati)\n",
    "print(len(numerostati))"
   ]
  },
  {
   "cell_type": "code",
   "execution_count": null,
   "metadata": {},
   "outputs": [],
   "source": [
    "def average(array):\n",
    "  a = set(array)\n",
    "  media= sum(a) / len(a)\n",
    "  return media"
   ]
  },
  {
   "cell_type": "code",
   "execution_count": null,
   "metadata": {},
   "outputs": [],
   "source": [
    "M = int(input())\n",
    "m = set(map(int,input().split()))\n",
    "\n",
    "N = int(input())\n",
    "n = set(map(int,input().split()))\n",
    "\n",
    "    \n",
    "for e in sorted(m^n):\n",
    "    print(e)"
   ]
  },
  {
   "cell_type": "code",
   "execution_count": null,
   "metadata": {},
   "outputs": [],
   "source": [
    "m,n = map(int,input().split())\n",
    "arr = list(map(int,input().split()))\n",
    "happiness = 0\n",
    "\n",
    "A = set(map(int,input().split()))\n",
    "B = set(map(int,input().split()))\n",
    "\n",
    "for i in arr:\n",
    "    if i in A:\n",
    "        happiness = happiness + 1\n",
    "    if i in B:\n",
    "        happiness = happiness -1\n",
    "print(happiness)\n"
   ]
  },
  {
   "cell_type": "code",
   "execution_count": null,
   "metadata": {},
   "outputs": [],
   "source": [
    "n = int(input())\n",
    "English = set(map(int,input().split()))\n",
    "b = int(input())\n",
    "French = set(map(int,input().split()))\n",
    "\n",
    "a = English.union(French)\n",
    "print(len(a))\n"
   ]
  },
  {
   "cell_type": "code",
   "execution_count": null,
   "metadata": {},
   "outputs": [],
   "source": [
    "n = int(input())\n",
    "English = set(map(int,input().split()))\n",
    "b = int(input())\n",
    "French = set(map(int,input().split()))\n",
    "\n",
    "a = English.intersection(French)\n",
    "print(len(a))"
   ]
  },
  {
   "cell_type": "code",
   "execution_count": null,
   "metadata": {},
   "outputs": [],
   "source": [
    "n = int(input())\n",
    "English = set(map(int,input().split()))\n",
    "b = int(input())\n",
    "French = set(map(int,input().split()))\n",
    "\n",
    "a = English.difference(French)\n",
    "print(len(a))\n"
   ]
  },
  {
   "cell_type": "code",
   "execution_count": null,
   "metadata": {},
   "outputs": [],
   "source": [
    "n = int(input())\n",
    "English = set(map(int,input().split()))\n",
    "b = int(input())\n",
    "French = set(map(int,input().split()))\n",
    "\n",
    "a = English.symmetric_difference(French)\n",
    "print(len(a))\n"
   ]
  },
  {
   "cell_type": "code",
   "execution_count": null,
   "metadata": {},
   "outputs": [],
   "source": [
    "def handler(A):\n",
    "    comandi = input().split()[0]\n",
    "    altroinsieme = set(map(int,input().split()))\n",
    "    \n",
    "    if comandi == 'intersection_update':\n",
    "        A.intersection_update(altroinsieme)\n",
    "    if comandi == 'update':\n",
    "        A.update(altroinsieme)\n",
    "    if comandi == 'difference_update':\n",
    "        A.difference_update(altroinsieme)\n",
    "    if comandi == 'symmetric_difference_update':\n",
    "        A.symmetric_difference_update(altroinsieme)\n",
    "\n",
    "a = int(input())\n",
    "A = set(map(int,input().split()))\n",
    "for i in range(int(input())):\n",
    "    handler(A)\n",
    "print(sum(A))\n"
   ]
  },
  {
   "cell_type": "code",
   "execution_count": null,
   "metadata": {},
   "outputs": [],
   "source": [
    "K = int(input())\n",
    "lista = list(map(int,input().split()))\n",
    "senzaduplicati = set(lista)\n",
    "numerostanza = (sum(senzaduplicati) * K - sum(lista)) // (K-1)\n",
    "print(numerostanza)"
   ]
  },
  {
   "cell_type": "code",
   "execution_count": null,
   "metadata": {},
   "outputs": [],
   "source": [
    "def swap_case(s):\n",
    "    return s.swapcase()"
   ]
  },
  {
   "cell_type": "code",
   "execution_count": null,
   "metadata": {},
   "outputs": [],
   "source": [
    "def split_and_join(line):\n",
    "    line = line.split(\" \")\n",
    "    line = \"-\".join(line)\n",
    "    return line\n",
    "\n",
    "if __name__ == '__main__':\n",
    "    line = input()\n",
    "    result = split_and_join(line)\n",
    "    print(result)\n"
   ]
  },
  {
   "cell_type": "code",
   "execution_count": null,
   "metadata": {},
   "outputs": [],
   "source": [
    "def split_and_join(line):\n",
    "    line = line.split(\" \")\n",
    "    line = \"-\".join(line)\n",
    "    return line\n",
    "\n",
    "if __name__ == '__main__':\n",
    "    line = input()\n",
    "    result = split_and_join(line)\n",
    "    print(result)\n"
   ]
  },
  {
   "cell_type": "code",
   "execution_count": null,
   "metadata": {},
   "outputs": [],
   "source": [
    "def print_full_name(first, last):\n",
    "    print('Hello' + ' ' + first + ' ' + last + '!' + ' ' + 'You just delved into python.')\n",
    "    "
   ]
  },
  {
   "cell_type": "code",
   "execution_count": null,
   "metadata": {},
   "outputs": [],
   "source": [
    "def mutate_string(string, position, character):\n",
    "    lista = list(string)\n",
    "    lista[position] = character\n",
    "    string = ''.join(lista)\n",
    "    return string"
   ]
  },
  {
   "cell_type": "code",
   "execution_count": null,
   "metadata": {},
   "outputs": [],
   "source": [
    "def count_substring(string, sub_string):\n",
    "    contatore = 0\n",
    "    for i in range(len(string)-len(sub_string) +1):\n",
    "     if string[i: i + len(sub_string)] == sub_string:\n",
    "        contatore = contatore + 1\n",
    "    return contatore"
   ]
  },
  {
   "cell_type": "code",
   "execution_count": null,
   "metadata": {},
   "outputs": [],
   "source": [
    "if __name__ == '__main__':\n",
    "    s = input()\n",
    "    \n",
    "    a = any([i.isalnum() for i in s])\n",
    "    b = any([i.isalpha() for i in s])\n",
    "    c = any([i.isdigit() for i in s])\n",
    "    d = any([i.islower() for i in s])\n",
    "    e = any([i.isupper() for i in s])\n",
    "    print(a)\n",
    "    print(b)\n",
    "    print(c)\n",
    "    print(d)\n",
    "    print(e)\n",
    "    "
   ]
  },
  {
   "cell_type": "code",
   "execution_count": null,
   "metadata": {},
   "outputs": [],
   "source": [
    "thickness = int(input())\n",
    "\n",
    "c = 'H'\n",
    "\n",
    "\n",
    "for i in range(thickness):\n",
    "    print((c*i).rjust(thickness-1)+c+(c*i).ljust(thickness-1))\n",
    "\n",
    "\n",
    "for i in range(thickness+1):\n",
    "    print((c*thickness).center(thickness*2)+(c*thickness).center(thickness*6))\n",
    "\n",
    "\n",
    "for i in range((thickness+1)//2):\n",
    "    print((c*thickness*5).center(thickness*6))\n",
    "\n",
    "\n",
    "for i in range(thickness+1):\n",
    "    print((c*thickness).center(thickness*2)+(c*thickness).center(thickness*6))\n",
    "    \n",
    "for i in range(thickness):\n",
    "    print(((c*(thickness-i-1)).rjust(thickness)+c+(c*(thickness-i-1)).ljust(thickness)).rjust(thickness*6))\n",
    "\n"
   ]
  },
  {
   "cell_type": "code",
   "execution_count": null,
   "metadata": {},
   "outputs": [],
   "source": [
    "def wrap(string, max_width):\n",
    "    return textwrap.fill(string,max_width)"
   ]
  },
  {
   "cell_type": "code",
   "execution_count": null,
   "metadata": {},
   "outputs": [],
   "source": [
    "height, length = map(int, input().split())\n",
    "\n",
    "for i in range(0, height // 2):\n",
    "    s = '.|.' * (i * 2 + 1)\n",
    "    print(s.center(length,'-'))\n",
    "print('WELCOME'.center(length, '-'))\n",
    "\n",
    "for i in range(height // 2 - 1, -1, -1):\n",
    "    s = '.|.' * (i * 2 + 1)\n",
    "    print(s.center(length,'-'))"
   ]
  },
  {
   "cell_type": "code",
   "execution_count": null,
   "metadata": {},
   "outputs": [],
   "source": [
    "def print_formatted(number):\n",
    "    \n",
    "    lunghezza = len(bin(number)[2:])\n",
    "    \n",
    "    for i in range(1,n+1):\n",
    "        stringa = str(i)\n",
    "        ottale = oct(i)[2:]\n",
    "        esadecimale = hex(i)[2:].upper()\n",
    "        binario = bin(i)[2:]\n",
    "        print(stringa.rjust(lunghezza), ottale.rjust(lunghezza), esadecimale.rjust(lunghezza), binario.rjust(lunghezza))"
   ]
  },
  {
   "cell_type": "code",
   "execution_count": null,
   "metadata": {},
   "outputs": [],
   "source": [
    "def print_rangoli(size):\n",
    "    alphabet = 'abcdefghijklmnopqrstuvwxyz'\n",
    "    lista = []\n",
    "    for i in range(size):\n",
    "      s = '-'.join(alphabet[i:size])\n",
    "      lista.append((s[::-1]+s[1:]).center(size*4-3,\"-\"))\n",
    "    print('\\n'.join(lista[:0:-1]+lista))"
   ]
  },
  {
   "cell_type": "code",
   "execution_count": null,
   "metadata": {},
   "outputs": [],
   "source": [
    "def solve(s):\n",
    "  return ' '.join(i.capitalize() for i in s.split(' '))\n",
    "   "
   ]
  },
  {
   "cell_type": "code",
   "execution_count": null,
   "metadata": {},
   "outputs": [],
   "source": [
    "def minion_game(string):\n",
    "    stuart = 0\n",
    "    kevin = 0\n",
    "    vocali = 'AEIOU'\n",
    "    for i,j in enumerate(string):\n",
    "        if j in vocali:\n",
    "            kevin = kevin + len(string) - i\n",
    "        else:\n",
    "            stuart = stuart + len(string) - i\n",
    "            \n",
    "    if kevin == stuart:\n",
    "        print('Draw')\n",
    "    if kevin > stuart:\n",
    "        print('Kevin', kevin)\n",
    "    if stuart > kevin:\n",
    "        print('Stuart',stuart)\n",
    "        \n",
    "\n"
   ]
  },
  {
   "cell_type": "code",
   "execution_count": null,
   "metadata": {},
   "outputs": [],
   "source": [
    "def merge_the_tools(string, k):\n",
    "    lista = []\n",
    "    for i in range(0,len(string),k):\n",
    "        for j in range(i,i+k):\n",
    "            if string[j] not in lista:\n",
    "                lista.append(string[j])\n",
    "        sub_seq=''.join(lista)\n",
    "        print(sub_seq)\n",
    "        lista.clear()"
   ]
  },
  {
   "cell_type": "code",
   "execution_count": null,
   "metadata": {},
   "outputs": [],
   "source": [
    "T = int(input())\n",
    "for i in range(T):\n",
    "    a= int(input())\n",
    "    A = set(map(int,input().split()))\n",
    "    b = int(input())\n",
    "    B = set(map(int,input().split()))\n",
    "\n",
    "    intersezione = A.intersection(B)\n",
    "    if intersezione == A:\n",
    "        print('True')\n",
    "    else:\n",
    "        print('False')"
   ]
  },
  {
   "cell_type": "code",
   "execution_count": null,
   "metadata": {},
   "outputs": [],
   "source": [
    "A = set(map(int,input().split()))\n",
    "n = int(input())\n",
    "c =True\n",
    "\n",
    "for i in range(n):\n",
    "    sets= set(map(int,input().split()))\n",
    "    if(A&sets != sets) or (sets == A):\n",
    "       c = False\n",
    "       break\n",
    "print(c)"
   ]
  },
  {
   "cell_type": "code",
   "execution_count": null,
   "metadata": {},
   "outputs": [],
   "source": [
    "from collections import defaultdict\n",
    "\n",
    "n,m = map(int,input().split())\n",
    "A = defaultdict(list)\n",
    "\n",
    "for i in range(n):\n",
    "    A[input()].append(str(i+1))\n",
    "for j in range(m):\n",
    "    print(' '.join(A[input()]) or -1)\n",
    "    "
   ]
  },
  {
   "cell_type": "code",
   "execution_count": null,
   "metadata": {},
   "outputs": [],
   "source": [
    "from collections import namedtuple\n",
    "N = int(input())\n",
    "a = namedtuple('a',input().rsplit())\n",
    "\n",
    "    \n",
    "media = sum([int(a(*input().rsplit()).MARKS)for i in range(N)])/ N\n",
    "\n",
    "print(media)\n"
   ]
  },
  {
   "cell_type": "code",
   "execution_count": null,
   "metadata": {},
   "outputs": [],
   "source": [
    "from collections import namedtuple\n",
    "N = int(input())\n",
    "a = namedtuple('a',input().rsplit())\n",
    "\n",
    "    \n",
    "media = sum([int(a(*input().rsplit()).MARKS)for i in range(N)])/ N\n",
    "\n",
    "print(media)\n"
   ]
  },
  {
   "cell_type": "code",
   "execution_count": null,
   "metadata": {},
   "outputs": [],
   "source": [
    "from collections import deque\n",
    "d = deque()\n",
    "N = int(input())\n",
    "for i in range(N):\n",
    "    comandi = input().split()\n",
    "    if comandi[0] == 'append':\n",
    "        d.append(comandi[1])\n",
    "    if comandi[0] == 'pop':\n",
    "        d.pop()\n",
    "    if comandi[0] == 'popleft':\n",
    "        d.popleft()\n",
    "    if comandi[0] == 'appendleft':\n",
    "        d.appendleft(comandi[1])\n",
    "\n",
    "print(*d)"
   ]
  },
  {
   "cell_type": "code",
   "execution_count": null,
   "metadata": {},
   "outputs": [],
   "source": [
    "import calendar\n",
    "mese, giorno, anno = map(int,input().split())\n",
    "print(calendar.day_name[calendar.weekday(anno,mese,giorno)].upper())"
   ]
  },
  {
   "cell_type": "code",
   "execution_count": null,
   "metadata": {},
   "outputs": [],
   "source": [
    "import math\n",
    "import os\n",
    "import random\n",
    "import re\n",
    "import sys\n",
    "from collections import Counter\n",
    "\n",
    "\n",
    "if __name__ == '__main__':\n",
    "    s = input()\n",
    "    s = sorted([i for i in s])\n",
    "    a = Counter(s)\n",
    "    \n",
    "    trepiucomuni = a.most_common(3)\n",
    "    for i,j in trepiucomuni:\n",
    "        print(i,j)\n"
   ]
  },
  {
   "cell_type": "code",
   "execution_count": null,
   "metadata": {},
   "outputs": [],
   "source": [
    "N,M = map(int,input().split())\n",
    "voti = []\n",
    "for i in range(M):\n",
    "    votistudenti = list(map(float,input().split()))\n",
    "    voti.append(votistudenti)\n",
    "    \n",
    "for j in zip(*voti):\n",
    "    print(sum(j)/M)"
   ]
  },
  {
   "cell_type": "code",
   "execution_count": null,
   "metadata": {},
   "outputs": [],
   "source": [
    "cube = lambda x: x**3 \n",
    "\n",
    "def fibonacci(n):\n",
    "    N1,N2 = 0,1\n",
    "    fib = []\n",
    "    for i in range(n):\n",
    "        fib.append(N1)\n",
    "        N1,N2 = N2, N1+N2\n",
    "    return fib\n",
    "\n"
   ]
  }
 ],
 "metadata": {
  "kernelspec": {
   "display_name": "Python 3.9.12 ('base')",
   "language": "python",
   "name": "python3"
  },
  "language_info": {
   "name": "python",
   "version": "3.9.12"
  },
  "orig_nbformat": 4,
  "vscode": {
   "interpreter": {
    "hash": "492de5c55b0784f5394852be3d129468b1a3cbd17c8e16230d794b01878ae870"
   }
  }
 },
 "nbformat": 4,
 "nbformat_minor": 2
}
